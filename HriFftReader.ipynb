{
 "cells": [
  {
   "cell_type": "code",
   "execution_count": null,
   "metadata": {},
   "outputs": [],
   "source": [
    "\n",
    "# Define the subfolder path\n",
    "\n",
    "\n",
    "# List to store dataframes\n",
    "print(files)\n",
    "# Check if the subfolder exists\n"
   ]
  },
  {
   "cell_type": "code",
   "execution_count": null,
   "metadata": {},
   "outputs": [],
   "source": [
    "import os\n",
    "import csv\n",
    "import math\n",
    "fft_values = []\n",
    "subfolder_path = \"D:\\\\Source\\\\Python\\\\HriFftReader\\\\HriFftLog\"\n",
    "order=15\n",
    "bandwidth=2\n",
    "limit=15\n",
    "\n",
    "frequStep=9.765625\n",
    "def process_csv_line_by_line(file_path, skiprows):\n",
    "    with open(file_path, mode='r') as file:\n",
    "        for _ in range(skiprows):\n",
    "            next(file)\n",
    "        csv_reader = csv.DictReader(file)\n",
    "        print('Processing ' + file_path)\n",
    "        for row in csv_reader:\n",
    "            dmc=row['DMC']\n",
    "            timestamp=row['TimeStamp']\n",
    "            rps=math.fabs(float(row['Drehzahl'])/60)\n",
    "            # Get the bounds for the frequencies based on speed and order\n",
    "            lowerBound=math.floor(rps*(order-bandwidth/2)/frequStep) # 0\n",
    "            upperBound=math.ceil(rps*(order+bandwidth/2)/frequStep) # 850\n",
    "            # fft_row = [float(row[f'Wert{i}']) for i in range(1, 851)]\n",
    "            fft_row = [float(row[f'Wert{i}']) for i in range(lowerBound+1, upperBound+1)]\n",
    "            \n",
    "            # Check if any value in fft_row exceeds the limit\n",
    "            if any(value >= limit for value in fft_row):\n",
    "                limitExceededObject = [file_path, timestamp, dmc, fft_row]\n",
    "                fft_values.append(limitExceededObject)\n",
    "                print('Limit exceeded: ' + str(limitExceededObject))\n",
    "\n",
    "\n",
    "skiprows = 32 # Header rows to skip\n",
    "\n",
    "files = os.listdir(subfolder_path)\n",
    "for file_name in files:\n",
    "    if file_name.endswith(\".CSV\"):\n",
    "        file_path = os.path.join(subfolder_path, file_name)\n",
    "        process_csv_line_by_line(file_path, skiprows)\n",
    "\n",
    "for row in fft_values[:50]:\n",
    "    print(row)"
   ]
  }
 ],
 "metadata": {
  "kernelspec": {
   "display_name": "HriFftLogReader",
   "language": "python",
   "name": "python3"
  },
  "language_info": {
   "codemirror_mode": {
    "name": "ipython",
    "version": 3
   },
   "file_extension": ".py",
   "mimetype": "text/x-python",
   "name": "python",
   "nbconvert_exporter": "python",
   "pygments_lexer": "ipython3",
   "version": "3.13.2"
  }
 },
 "nbformat": 4,
 "nbformat_minor": 2
}
